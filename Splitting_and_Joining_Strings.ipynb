{
  "nbformat": 4,
  "nbformat_minor": 0,
  "metadata": {
    "colab": {
      "name": " Splitting and Joining Strings ",
      "provenance": []
    },
    "kernelspec": {
      "name": "python3",
      "display_name": "Python 3"
    }
  },
  "cells": [
    {
      "cell_type": "markdown",
      "metadata": {
        "id": "sXCfB1UXeOZ7"
      },
      "source": [
        "#  Splitting and Joining Strings \n",
        "\n",
        "## Table of contents\n",
        "* [Create an array of ten strings](#a)\n",
        "* [ Write a program to join and split these strings](#b) \n",
        "* [Use tuple, dictionary, and set](#c)\n"
      ]
    },
    {
      "cell_type": "code",
      "metadata": {
        "id": "aJwo5eAXm9xF",
        "outputId": "7a020de9-b850-4126-de47-f89002c965a6",
        "colab": {
          "base_uri": "https://localhost:8080/",
          "height": 255
        }
      },
      "source": [
        "def main():\n",
        "    print(\"Splitting and Joining Strings\")\n",
        "    print('\\n')\n",
        "    try:\n",
        "        \n",
        "        import numpy as np\n",
        "        \n",
        "        arr_text = np.array(['My', 'name', 'is', 'Abdulaziz', 'and', 'I', 'want', 'to', 'be', 'a', 'Data', 'Scientist'])\n",
        "        print(f'An array of strings: {arr_text}')\n",
        "        print(f'Object type: {type(arr_text)}')\n",
        "        print('\\n')\n",
        "        # Join the strings\n",
        "        join_text = ' '.join(arr_text)\n",
        "        print(f'Joined strings of the array: {join_text}')\n",
        "        print(f'Object type: {type(join_text)}')\n",
        "        print('\\n')\n",
        "        # split the strings\n",
        "        split_text = join_text.split(' ')\n",
        "        print(f'The splitted text: {split_text}')\n",
        "        print(f'Object type: {type(split_text)}')\n",
        "\n",
        "    except FileNotFoundError:\n",
        "        # a message code if file not exist\n",
        "        print('Python file not exist')\n",
        "\n",
        "if __name__ == \"__main__\":\n",
        "    main()"
      ],
      "execution_count": 165,
      "outputs": [
        {
          "output_type": "stream",
          "text": [
            "Splitting and Joining Strings\n",
            "\n",
            "\n",
            "An array of strings: ['My' 'name' 'is' 'Abdulaziz' 'and' 'I' 'want' 'to' 'be' 'a' 'Data'\n",
            " 'Scientist']\n",
            "Object type: <class 'numpy.ndarray'>\n",
            "\n",
            "\n",
            "Joined strings of the array: My name is Abdulaziz and I want to be a Data Scientist\n",
            "Object type: <class 'str'>\n",
            "\n",
            "\n",
            "The splitted text: ['My', 'name', 'is', 'Abdulaziz', 'and', 'I', 'want', 'to', 'be', 'a', 'Data', 'Scientist']\n",
            "Object type: <class 'list'>\n"
          ],
          "name": "stdout"
        }
      ]
    },
    {
      "cell_type": "markdown",
      "metadata": {
        "id": "PElnW6PW6Y_V"
      },
      "source": [
        "<a id='a'></a>\n",
        "\n",
        "#### Create an array of ten strings"
      ]
    },
    {
      "cell_type": "code",
      "metadata": {
        "id": "0IBLzVvKpLS8",
        "outputId": "d0a54d13-9e1d-456b-cca2-67d2dc2da571",
        "colab": {
          "base_uri": "https://localhost:8080/",
          "height": 68
        }
      },
      "source": [
        "import numpy as np\n",
        "\n",
        "arr_text = np.array(['My', 'name', 'is', 'Abdulaziz', 'and', 'I', 'want', 'to','be', 'a' ,'Data' ,'Scientist'])\n",
        "print(f'An array of strings: {arr_text}')\n",
        "print(f'Object type: {type(arr_text)}')"
      ],
      "execution_count": 166,
      "outputs": [
        {
          "output_type": "stream",
          "text": [
            "An array of strings: ['My' 'name' 'is' 'Abdulaziz' 'and' 'I' 'want' 'to' 'be' 'a' 'Data'\n",
            " 'Scientist']\n",
            "Object type: <class 'numpy.ndarray'>\n"
          ],
          "name": "stdout"
        }
      ]
    },
    {
      "cell_type": "markdown",
      "metadata": {
        "id": "EZAe1m6e6r0B"
      },
      "source": [
        "<a id='b'></a>\n",
        "\n",
        "#### Write a program to join and split these strings"
      ]
    },
    {
      "cell_type": "code",
      "metadata": {
        "id": "YvHZw33x3SDj",
        "outputId": "271ab824-cb9f-498e-e605-2b3d82d48a48",
        "colab": {
          "base_uri": "https://localhost:8080/",
          "height": 51
        }
      },
      "source": [
        "join_text = ' '.join(arr_text)\n",
        "print(f'Joined strings of the array: {join_text}')\n",
        "print(f'Object type: {type(join_text)}')"
      ],
      "execution_count": 167,
      "outputs": [
        {
          "output_type": "stream",
          "text": [
            "Joined strings of the array: My name is Abdulaziz and I want to be a Data Scientist\n",
            "Object type: <class 'str'>\n"
          ],
          "name": "stdout"
        }
      ]
    },
    {
      "cell_type": "code",
      "metadata": {
        "id": "Us8iRulA3IXl",
        "outputId": "80a03f51-6664-4ad4-ea34-ae2de7294195",
        "colab": {
          "base_uri": "https://localhost:8080/",
          "height": 51
        }
      },
      "source": [
        "split_text = join_text.split(' ')\n",
        "print(f'The splitted text: {split_text}')\n",
        "print(f'Object type: {type(split_text)}')"
      ],
      "execution_count": 168,
      "outputs": [
        {
          "output_type": "stream",
          "text": [
            "The splitted text: ['My', 'name', 'is', 'Abdulaziz', 'and', 'I', 'want', 'to', 'be', 'a', 'Data', 'Scientist']\n",
            "Object type: <class 'list'>\n"
          ],
          "name": "stdout"
        }
      ]
    },
    {
      "cell_type": "markdown",
      "metadata": {
        "id": "n06aI6GbdNSc"
      },
      "source": [
        "<a id='c'></a>\n",
        "\n",
        "####  Use tuple, dictionary, and set"
      ]
    },
    {
      "cell_type": "code",
      "metadata": {
        "id": "_RxzghD1dMSv",
        "outputId": "12893a55-906c-445d-adea-d489e8c78f11",
        "colab": {
          "base_uri": "https://localhost:8080/",
          "height": 51
        }
      },
      "source": [
        "tuple_text = ('This', 'is', 'the', 'tuple', 'example')\n",
        "print(f'The set of strings: {tuple_text}')\n",
        "print(f'Object type: {type(tuple_text)}')"
      ],
      "execution_count": 169,
      "outputs": [
        {
          "output_type": "stream",
          "text": [
            "The set of strings: ('This', 'is', 'the', 'tuple', 'example')\n",
            "Object type: <class 'tuple'>\n"
          ],
          "name": "stdout"
        }
      ]
    },
    {
      "cell_type": "code",
      "metadata": {
        "id": "dAvl29GEhzwQ",
        "outputId": "8aac3e93-d3f9-449c-a75d-4a172f2bea8d",
        "colab": {
          "base_uri": "https://localhost:8080/",
          "height": 51
        }
      },
      "source": [
        "tuple_join = ' '.join(tuple_text)\n",
        "print(f'Joined strings of the dictionary: {tuple_join}')\n",
        "print(f'Object type: {type(tuple_join)}')"
      ],
      "execution_count": 170,
      "outputs": [
        {
          "output_type": "stream",
          "text": [
            "Joined strings of the dictionary: This is the tuple example\n",
            "Object type: <class 'str'>\n"
          ],
          "name": "stdout"
        }
      ]
    },
    {
      "cell_type": "code",
      "metadata": {
        "id": "FPnsNt1j3UHQ",
        "outputId": "9821df0b-24a0-40ea-e18e-a5903ff34140",
        "colab": {
          "base_uri": "https://localhost:8080/",
          "height": 51
        }
      },
      "source": [
        "dict_text = {1:'This', 2:'is', 3:'the', 4:'dictionary', 5:'example'}\n",
        "print(f'The dictionary of strings: {dict_text}')\n",
        "print(f'Object type: {type(dict_text)}')"
      ],
      "execution_count": 171,
      "outputs": [
        {
          "output_type": "stream",
          "text": [
            "The dictionary of strings: {1: 'This', 2: 'is', 3: 'the', 4: 'dictionary', 5: 'example'}\n",
            "Object type: <class 'dict'>\n"
          ],
          "name": "stdout"
        }
      ]
    },
    {
      "cell_type": "code",
      "metadata": {
        "id": "AJol-VhBWr5y",
        "outputId": "0f5a2bc4-d730-4440-c96f-a9cadb7543da",
        "colab": {
          "base_uri": "https://localhost:8080/",
          "height": 51
        }
      },
      "source": [
        "dict_join = ' '.join(i for i in dict_text.values())\n",
        "print(f'Joined strings of the dictionary: {dict_join}')\n",
        "print(f'Object type: {type(dict_join)}')"
      ],
      "execution_count": 172,
      "outputs": [
        {
          "output_type": "stream",
          "text": [
            "Joined strings of the dictionary: This is the dictionary example\n",
            "Object type: <class 'str'>\n"
          ],
          "name": "stdout"
        }
      ]
    },
    {
      "cell_type": "code",
      "metadata": {
        "id": "BFzKZgLlZviD",
        "outputId": "1a0210b1-d122-408e-e346-3a70ffa1ea03",
        "colab": {
          "base_uri": "https://localhost:8080/",
          "height": 51
        }
      },
      "source": [
        "set_text = {'This', 'is', 'the', 'set', 'example'}\n",
        "print(f'The set of strings: {set_text}')\n",
        "print(f'Object type: {type(set_text)}')"
      ],
      "execution_count": 173,
      "outputs": [
        {
          "output_type": "stream",
          "text": [
            "The set of strings: {'example', 'set', 'is', 'the', 'This'}\n",
            "Object type: <class 'set'>\n"
          ],
          "name": "stdout"
        }
      ]
    },
    {
      "cell_type": "code",
      "metadata": {
        "id": "LkW5vv7OgwT2",
        "outputId": "4c14a162-3d15-44d5-fd1d-63b966801954",
        "colab": {
          "base_uri": "https://localhost:8080/",
          "height": 51
        }
      },
      "source": [
        "set_join = ' '.join(set_text)\n",
        "print(f'Joined strings of the dictionary: {set_join}')\n",
        "print(f'Object type: {type(set_join)}')"
      ],
      "execution_count": 174,
      "outputs": [
        {
          "output_type": "stream",
          "text": [
            "Joined strings of the dictionary: example set is the This\n",
            "Object type: <class 'str'>\n"
          ],
          "name": "stdout"
        }
      ]
    }
  ]
}